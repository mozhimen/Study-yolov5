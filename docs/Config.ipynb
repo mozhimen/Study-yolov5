{
 "cells": [
  {
   "attachments": {},
   "cell_type": "markdown",
   "id": "6860a598",
   "metadata": {},
   "source": [
    "# Yolov5的配置"
   ]
  },
  {
   "attachments": {},
   "cell_type": "markdown",
   "id": "74a70591",
   "metadata": {},
   "source": [
    "## 1.环境的创建过程(Conda,Jupyter)"
   ]
  },
  {
   "cell_type": "code",
   "execution_count": null,
   "id": "ce1ef2e5",
   "metadata": {},
   "outputs": [],
   "source": [
    "1. fork yolov5\n",
    "2. 下载Anaconda(自带Jupyter)\n",
    "3. 安装Anaconda配置虚拟环境"
   ]
  },
  {
   "cell_type": "code",
   "execution_count": 2,
   "id": "1cef7368",
   "metadata": {
    "scrolled": true
   },
   "outputs": [],
   "source": [
    "# 创建环境\n",
    "!conda create --name py3916_yolov5 python=3.9.16"
   ]
  },
  {
   "cell_type": "code",
   "execution_count": null,
   "id": "0a3ed0d5",
   "metadata": {},
   "outputs": [],
   "source": [
    "# 激活环境\n",
    "!conda activate py3916_yolov5"
   ]
  },
  {
   "cell_type": "code",
   "execution_count": null,
   "id": "ea14ba4d",
   "metadata": {},
   "outputs": [],
   "source": [
    "# 确认所在环境是否正确\n",
    "!conda env list"
   ]
  },
  {
   "cell_type": "code",
   "execution_count": 4,
   "id": "6d5ea4c6",
   "metadata": {},
   "outputs": [
    {
     "name": "stdout",
     "output_type": "stream",
     "text": [
      "Python 3.8.10\n"
     ]
    }
   ],
   "source": [
    "# 测试python版本\n",
    "!python -V"
   ]
  },
  {
   "cell_type": "code",
   "execution_count": null,
   "id": "30f506df",
   "metadata": {},
   "outputs": [],
   "source": [
    "# 安装ipykernel\n",
    "!conda install ipykernel"
   ]
  },
  {
   "cell_type": "code",
   "execution_count": null,
   "id": "36005133",
   "metadata": {},
   "outputs": [],
   "source": [
    "# 将选择的conda环境注入Jupyter Notebook\n",
    "!python -m ipykernel install --user --name py3916_yolov5"
   ]
  },
  {
   "cell_type": "code",
   "execution_count": null,
   "id": "9d0897e8",
   "metadata": {},
   "outputs": [],
   "source": [
    "# 查看内核列表\n",
    "!jupyter kernelspec list"
   ]
  },
  {
   "cell_type": "code",
   "execution_count": null,
   "id": "3b7fbee2",
   "metadata": {},
   "outputs": [],
   "source": [
    "# 安装nb_conda(在虚拟环境)\n",
    "!conda install nb_conda"
   ]
  },
  {
   "attachments": {},
   "cell_type": "markdown",
   "id": "a06d1209",
   "metadata": {},
   "source": [
    "> CondaSSLError: Encountered an SSL error. Most likely a certificate verification issue.\n",
    "Exception: HTTPSConnectionPool(host='repo.anaconda.com', port=443): Max retries exceeded with url: /pkgs/main/win-64/current_repodata.json (Caused by SSLError(SSLEOFError(8, 'EOF occurred in violation of protocol (_ssl.c:997)')))\n",
    "\n",
    "解决方案: 增加镜像"
   ]
  },
  {
   "cell_type": "code",
   "execution_count": null,
   "id": "2308bf3f",
   "metadata": {},
   "outputs": [],
   "source": [
    "# 增加channel\n",
    "!conda config --add channels https://mirrors.ustc.edu.cn/anaconda/pkgs/free/\n",
    "!conda config --add channels https://mirrors.tuna.tsinghua.edu.cn/anaconda/cloud/conda-forge/\n",
    "!conda config --add channels https://mirrors.tuna.tsinghua.edu.cn/anaconda/pkgs/free/\n",
    "!conda config --set show_channel_urls yes"
   ]
  },
  {
   "cell_type": "code",
   "execution_count": null,
   "id": "a9d967e3",
   "metadata": {},
   "outputs": [],
   "source": [
    "# 查看config\n",
    "!conda config --show"
   ]
  },
  {
   "cell_type": "code",
   "execution_count": null,
   "id": "05ad0afb",
   "metadata": {},
   "outputs": [],
   "source": [
    "# 打开jupyter\n",
    "!jupyter notebook"
   ]
  },
  {
   "attachments": {},
   "cell_type": "markdown",
   "id": "12891b2d",
   "metadata": {},
   "source": [
    "1. 切换kernel到虚拟环境py38_yolov5\n",
    "2. 检查环境是否是虚拟环境"
   ]
  },
  {
   "cell_type": "code",
   "execution_count": 1,
   "id": "ad5119ff",
   "metadata": {
    "scrolled": true
   },
   "outputs": [
    {
     "name": "stdout",
     "output_type": "stream",
     "text": [
      "# conda environments:\n",
      "#\n",
      "py38_yolov5           *  C:\\Users\\83524\\.conda\\envs\\py38_yolov5\n",
      "base                     D:\\Software\\1_Anaconda\n",
      "\n"
     ]
    }
   ],
   "source": [
    "# 确认所在环境是否正确\n",
    "!conda env list"
   ]
  },
  {
   "attachments": {},
   "cell_type": "markdown",
   "id": "7ef01c47",
   "metadata": {},
   "source": [
    "- 删除环境(附录)"
   ]
  },
  {
   "cell_type": "code",
   "execution_count": 14,
   "id": "8df67934",
   "metadata": {},
   "outputs": [
    {
     "name": "stdout",
     "output_type": "stream",
     "text": [
      "# conda environments:\n",
      "#\n",
      "py38_yolov5           *  C:\\Users\\83524\\.conda\\envs\\py38_yolov5\n",
      "base                     D:\\Software\\1_Anaconda\n",
      "\n"
     ]
    }
   ],
   "source": [
    "# 查看虚拟环境\n",
    "!conda env list"
   ]
  },
  {
   "cell_type": "code",
   "execution_count": 15,
   "id": "15b74284",
   "metadata": {},
   "outputs": [],
   "source": [
    "# 退出当前环境\n",
    "!conda deactivate"
   ]
  },
  {
   "cell_type": "code",
   "execution_count": 16,
   "id": "8f9471cd",
   "metadata": {},
   "outputs": [
    {
     "name": "stdout",
     "output_type": "stream",
     "text": [
      "# conda environments:\n",
      "#\n",
      "py38_yolov5           *  C:\\Users\\83524\\.conda\\envs\\py38_yolov5\n",
      "base                     D:\\Software\\1_Anaconda\n",
      "\n"
     ]
    }
   ],
   "source": [
    "# 确认是否退出\n",
    "!conda env list"
   ]
  },
  {
   "cell_type": "code",
   "execution_count": 12,
   "id": "35363830",
   "metadata": {},
   "outputs": [
    {
     "name": "stderr",
     "output_type": "stream",
     "text": [
      "\n",
      "CondaEnvironmentError: cannot remove current environment. deactivate and run conda remove again\n",
      "\n"
     ]
    }
   ],
   "source": [
    "# 删除conda虚拟环境\n",
    "!conda remove -n py3916_yolov5 --all"
   ]
  },
  {
   "cell_type": "code",
   "execution_count": 8,
   "id": "a6b40e66",
   "metadata": {},
   "outputs": [
    {
     "name": "stdout",
     "output_type": "stream",
     "text": [
      "# conda environments:\n",
      "#\n",
      "py38_yolov5           *  C:\\Users\\83524\\.conda\\envs\\py38_yolov5\n",
      "base                     D:\\Software\\1_Anaconda\n",
      "\n"
     ]
    }
   ],
   "source": [
    "# 可以通过以下命令查看已有的环境列表确认删除\n",
    "!conda info -e"
   ]
  },
  {
   "cell_type": "code",
   "execution_count": null,
   "id": "43b109f2",
   "metadata": {},
   "outputs": [],
   "source": [
    "# 查看核心的内核和位置\n",
    "!jupyter kernelspec list"
   ]
  },
  {
   "cell_type": "code",
   "execution_count": null,
   "id": "eed0669d",
   "metadata": {},
   "outputs": [],
   "source": [
    "# 删除kernel核心\n",
    "!jupyter kernelspec remove py3916_yolov5  "
   ]
  },
  {
   "cell_type": "code",
   "execution_count": null,
   "id": "6d12e336",
   "metadata": {},
   "outputs": [],
   "source": [
    "# 再次确认是否删除\n",
    "!jupyter kernelspec list"
   ]
  },
  {
   "attachments": {},
   "cell_type": "markdown",
   "id": "6d8aac93",
   "metadata": {},
   "source": [
    "***"
   ]
  },
  {
   "attachments": {},
   "cell_type": "markdown",
   "id": "30daa914",
   "metadata": {},
   "source": [
    "## 2.下载对应CUDA\n",
    "\n",
    "根据yolov官网的notebook, 下载torch2.0.0对应的cuda11.8"
   ]
  },
  {
   "attachments": {},
   "cell_type": "markdown",
   "id": "34848750",
   "metadata": {},
   "source": [
    "## 3.配置yolov5"
   ]
  },
  {
   "attachments": {},
   "cell_type": "markdown",
   "id": "7d956f23",
   "metadata": {},
   "source": [
    "关闭Jupyter并cd到yolov5的目录\n",
    "重新打开(或直接拷贝)"
   ]
  },
  {
   "cell_type": "code",
   "execution_count": null,
   "id": "547c8fc2",
   "metadata": {},
   "outputs": [],
   "source": [
    "# 重新打开jupyter\n",
    "!jupyter notebook --notebook-dir='D:\\WorkSpace\\GitHub\\Study-yolov5\\docs'"
   ]
  },
  {
   "attachments": {},
   "cell_type": "markdown",
   "id": "8ac2196d",
   "metadata": {},
   "source": [
    "配置jupyter改为中文只需要在系统变量中加\n",
    "LANG zg_CN.UTF8即可"
   ]
  },
  {
   "cell_type": "code",
   "execution_count": 1,
   "id": "6b9d6510",
   "metadata": {},
   "outputs": [
    {
     "name": "stdout",
     "output_type": "stream",
     "text": [
      "Collecting gitpython>=3.1.30 (from -r D:\\WorkSpace\\GitHub\\Study-yolov5\\requirements.txt (line 5))\n",
      "  Downloading GitPython-3.1.31-py3-none-any.whl (184 kB)\n",
      "                                              0.0/184.3 kB ? eta -:--:--\n",
      "     --                                       10.2/184.3 kB ? eta -:--:--\n",
      "     --                                       10.2/184.3 kB ? eta -:--:--\n",
      "     --                                       10.2/184.3 kB ? eta -:--:--\n",
      "     --                                       10.2/184.3 kB ? eta -:--:--\n",
      "     ------                                30.7/184.3 kB 108.9 kB/s eta 0:00:02\n",
      "     ------                                30.7/184.3 kB 108.9 kB/s eta 0:00:02\n",
      "     ------                                30.7/184.3 kB 108.9 kB/s eta 0:00:02\n",
      "     ------------                          61.4/184.3 kB 156.1 kB/s eta 0:00:01\n",
      "     ----------------                      81.9/184.3 kB 191.1 kB/s eta 0:00:01\n",
      "     ---------------------                112.6/184.3 kB 226.0 kB/s eta 0:00:01\n",
      "     -----------------------              122.9/184.3 kB 232.2 kB/s eta 0:00:01\n",
      "     -----------------------              122.9/184.3 kB 232.2 kB/s eta 0:00:01\n",
      "     -----------------------              122.9/184.3 kB 232.2 kB/s eta 0:00:01\n",
      "     ------------------------------------ 184.3/184.3 kB 278.5 kB/s eta 0:00:00\n",
      "Collecting matplotlib>=3.3 (from -r D:\\WorkSpace\\GitHub\\Study-yolov5\\requirements.txt (line 6))\n",
      "  Downloading matplotlib-3.7.1-cp38-cp38-win_amd64.whl (7.6 MB)\n",
      "                                              0.0/7.6 MB ? eta -:--:--\n",
      "                                              0.1/7.6 MB 1.7 MB/s eta 0:00:05\n",
      "                                              0.1/7.6 MB 1.4 MB/s eta 0:00:06\n",
      "     -                                        0.2/7.6 MB 1.5 MB/s eta 0:00:06\n",
      "     -                                        0.2/7.6 MB 1.3 MB/s eta 0:00:06\n",
      "     -                                        0.3/7.6 MB 1.3 MB/s eta 0:00:06\n",
      "     --                                       0.4/7.6 MB 1.3 MB/s eta 0:00:06\n",
      "     --                                       0.5/7.6 MB 1.4 MB/s eta 0:00:06\n",
      "     ---                                      0.6/7.6 MB 1.6 MB/s eta 0:00:05\n",
      "     ----                                     0.8/7.6 MB 1.8 MB/s eta 0:00:04\n",
      "     -----                                    1.0/7.6 MB 2.0 MB/s eta 0:00:04\n",
      "     -----                                    1.1/7.6 MB 2.2 MB/s eta 0:00:03\n",
      "     -------                                  1.4/7.6 MB 2.4 MB/s eta 0:00:03\n",
      "     ---------                                1.8/7.6 MB 2.9 MB/s eta 0:00:03\n",
      "     -----------                              2.2/7.6 MB 3.3 MB/s eta 0:00:02\n",
      "     -------------                            2.6/7.6 MB 3.7 MB/s eta 0:00:02\n",
      "     ----------------                         3.1/7.6 MB 4.1 MB/s eta 0:00:02\n",
      "     ------------------                       3.5/7.6 MB 4.3 MB/s eta 0:00:01\n",
      "     -----------------------                  4.4/7.6 MB 5.2 MB/s eta 0:00:01\n",
      "     --------------------------               5.0/7.6 MB 5.6 MB/s eta 0:00:01\n",
      "     -------------------------------          6.1/7.6 MB 6.5 MB/s eta 0:00:01\n",
      "     -------------------------------------    7.1/7.6 MB 7.2 MB/s eta 0:00:01\n",
      "     ---------------------------------------- 7.6/7.6 MB 7.5 MB/s eta 0:00:00\n",
      "Collecting numpy>=1.18.5 (from -r D:\\WorkSpace\\GitHub\\Study-yolov5\\requirements.txt (line 7))\n",
      "  Downloading numpy-1.24.3-cp38-cp38-win_amd64.whl (14.9 MB)\n",
      "                                              0.0/14.9 MB ? eta -:--:--\n",
      "     --                                       0.9/14.9 MB 19.0 MB/s eta 0:00:01\n",
      "     -----                                    2.1/14.9 MB 22.7 MB/s eta 0:00:01\n",
      "     ---------                                3.6/14.9 MB 25.2 MB/s eta 0:00:01\n",
      "     -----------                              4.4/14.9 MB 23.2 MB/s eta 0:00:01\n",
      "     --------------                           5.3/14.9 MB 22.6 MB/s eta 0:00:01\n",
      "     -----------------                        6.4/14.9 MB 22.5 MB/s eta 0:00:01\n",
      "     --------------------                     7.7/14.9 MB 23.4 MB/s eta 0:00:01\n",
      "     -----------------------                  8.9/14.9 MB 23.7 MB/s eta 0:00:01\n",
      "     --------------------------              10.0/14.9 MB 23.7 MB/s eta 0:00:01\n",
      "     ----------------------------            11.0/14.9 MB 24.2 MB/s eta 0:00:01\n",
      "     -------------------------------         12.0/14.9 MB 23.4 MB/s eta 0:00:01\n",
      "     ----------------------------------      13.2/14.9 MB 23.4 MB/s eta 0:00:01\n",
      "     -------------------------------------   14.4/14.9 MB 24.2 MB/s eta 0:00:01\n",
      "     --------------------------------------  14.9/14.9 MB 24.3 MB/s eta 0:00:01\n",
      "     --------------------------------------- 14.9/14.9 MB 21.9 MB/s eta 0:00:00\n",
      "Collecting opencv-python>=4.1.1 (from -r D:\\WorkSpace\\GitHub\\Study-yolov5\\requirements.txt (line 8))\n",
      "  Downloading opencv_python-4.7.0.72-cp37-abi3-win_amd64.whl (38.2 MB)\n",
      "                                              0.0/38.2 MB ? eta -:--:--\n",
      "     -                                        1.4/38.2 MB 29.4 MB/s eta 0:00:02\n",
      "     --                                       2.7/38.2 MB 28.6 MB/s eta 0:00:02\n",
      "     ----                                     4.3/38.2 MB 27.4 MB/s eta 0:00:02\n",
      "     -----                                    5.7/38.2 MB 28.0 MB/s eta 0:00:02\n",
      "     -------                                  7.1/38.2 MB 26.7 MB/s eta 0:00:02\n",
      "     --------                                 8.1/38.2 MB 25.8 MB/s eta 0:00:02\n",
      "     ---------                                9.5/38.2 MB 26.5 MB/s eta 0:00:02\n",
      "     -----------                             10.8/38.2 MB 27.3 MB/s eta 0:00:02\n",
      "     ------------                            11.7/38.2 MB 27.3 MB/s eta 0:00:01\n",
      "     -------------                           13.2/38.2 MB 26.2 MB/s eta 0:00:01\n",
      "     --------------                          14.0/38.2 MB 25.1 MB/s eta 0:00:01\n",
      "     ---------------                         15.3/38.2 MB 25.2 MB/s eta 0:00:01\n",
      "     -----------------                       16.8/38.2 MB 25.2 MB/s eta 0:00:01\n",
      "     ------------------                      18.0/38.2 MB 25.2 MB/s eta 0:00:01\n",
      "     -------------------                     19.0/38.2 MB 26.2 MB/s eta 0:00:01\n",
      "     --------------------                    19.8/38.2 MB 24.2 MB/s eta 0:00:01\n",
      "     ---------------------                   21.3/38.2 MB 24.2 MB/s eta 0:00:01\n",
      "     ----------------------                  22.4/38.2 MB 24.2 MB/s eta 0:00:01\n",
      "     -----------------------                 23.3/38.2 MB 23.4 MB/s eta 0:00:01\n",
      "     -------------------------               24.7/38.2 MB 25.2 MB/s eta 0:00:01\n",
      "     --------------------------              25.6/38.2 MB 26.2 MB/s eta 0:00:01\n",
      "     --------------------------              26.0/38.2 MB 21.8 MB/s eta 0:00:01\n",
      "     ---------------------------             27.3/38.2 MB 21.8 MB/s eta 0:00:01\n",
      "     ----------------------------            28.2/38.2 MB 21.1 MB/s eta 0:00:01\n",
      "     -----------------------------           28.9/38.2 MB 21.1 MB/s eta 0:00:01\n",
      "     ------------------------------          29.5/38.2 MB 20.5 MB/s eta 0:00:01\n",
      "     ------------------------------          30.2/38.2 MB 19.8 MB/s eta 0:00:01\n",
      "     -------------------------------         30.7/38.2 MB 18.7 MB/s eta 0:00:01\n",
      "     --------------------------------        31.4/38.2 MB 17.7 MB/s eta 0:00:01\n",
      "     --------------------------------        32.0/38.2 MB 17.7 MB/s eta 0:00:01\n",
      "     ---------------------------------       32.6/38.2 MB 16.8 MB/s eta 0:00:01\n",
      "     ---------------------------------       33.2/38.2 MB 16.4 MB/s eta 0:00:01\n",
      "     ----------------------------------      33.8/38.2 MB 15.6 MB/s eta 0:00:01\n",
      "     -----------------------------------     34.4/38.2 MB 15.2 MB/s eta 0:00:01\n",
      "     -----------------------------------     34.7/38.2 MB 14.9 MB/s eta 0:00:01\n",
      "     ------------------------------------    35.6/38.2 MB 13.9 MB/s eta 0:00:01\n",
      "     ------------------------------------    36.2/38.2 MB 14.9 MB/s eta 0:00:01\n",
      "     -------------------------------------   36.9/38.2 MB 13.9 MB/s eta 0:00:01\n",
      "     --------------------------------------  37.5/38.2 MB 13.6 MB/s eta 0:00:01\n",
      "     --------------------------------------  38.1/38.2 MB 13.1 MB/s eta 0:00:01\n",
      "     --------------------------------------  38.2/38.2 MB 12.8 MB/s eta 0:00:01\n",
      "     --------------------------------------  38.2/38.2 MB 12.8 MB/s eta 0:00:01\n",
      "     --------------------------------------- 38.2/38.2 MB 11.7 MB/s eta 0:00:00\n",
      "Collecting Pillow>=7.1.2 (from -r D:\\WorkSpace\\GitHub\\Study-yolov5\\requirements.txt (line 9))\n",
      "  Using cached Pillow-9.5.0-cp38-cp38-win_amd64.whl (2.5 MB)\n",
      "Requirement already satisfied: psutil in c:\\users\\83524\\.conda\\envs\\py38_yolov5\\lib\\site-packages (from -r D:\\WorkSpace\\GitHub\\Study-yolov5\\requirements.txt (line 10)) (5.9.5)\n",
      "Requirement already satisfied: PyYAML>=5.3.1 in c:\\users\\83524\\.conda\\envs\\py38_yolov5\\lib\\site-packages (from -r D:\\WorkSpace\\GitHub\\Study-yolov5\\requirements.txt (line 11)) (6.0)\n",
      "Collecting requests>=2.23.0 (from -r D:\\WorkSpace\\GitHub\\Study-yolov5\\requirements.txt (line 12))\n",
      "  Downloading requests-2.31.0-py3-none-any.whl (62 kB)\n",
      "                                              0.0/62.6 kB ? eta -:--:--\n",
      "     ---------------------------------------- 62.6/62.6 kB 3.5 MB/s eta 0:00:00\n",
      "Collecting scipy>=1.4.1 (from -r D:\\WorkSpace\\GitHub\\Study-yolov5\\requirements.txt (line 13))\n",
      "  Using cached scipy-1.10.1-cp38-cp38-win_amd64.whl (42.2 MB)\n",
      "Collecting thop>=0.1.1 (from -r D:\\WorkSpace\\GitHub\\Study-yolov5\\requirements.txt (line 14))\n",
      "  Downloading thop-0.1.1.post2209072238-py3-none-any.whl (15 kB)\n",
      "Collecting torch>=1.7.0 (from -r D:\\WorkSpace\\GitHub\\Study-yolov5\\requirements.txt (line 15))\n",
      "  Downloading torch-2.0.1-cp38-cp38-win_amd64.whl (172.4 MB)\n",
      "                                              0.0/172.4 MB ? eta -:--:--\n",
      "                                             1.2/172.4 MB 24.6 MB/s eta 0:00:07\n",
      "                                             2.3/172.4 MB 24.6 MB/s eta 0:00:07\n",
      "                                             3.6/172.4 MB 25.2 MB/s eta 0:00:07\n",
      "     -                                       4.7/172.4 MB 23.1 MB/s eta 0:00:08\n",
      "     -                                       5.8/172.4 MB 23.3 MB/s eta 0:00:08\n",
      "     -                                       7.0/172.4 MB 23.5 MB/s eta 0:00:08\n",
      "     -                                       8.0/172.4 MB 23.3 MB/s eta 0:00:08\n",
      "     --                                      9.3/172.4 MB 23.7 MB/s eta 0:00:07\n",
      "     --                                     10.5/172.4 MB 24.2 MB/s eta 0:00:07\n",
      "     --                                     11.6/172.4 MB 25.2 MB/s eta 0:00:07\n",
      "     --                                     12.6/172.4 MB 24.2 MB/s eta 0:00:07\n",
      "     ---                                    13.7/172.4 MB 23.4 MB/s eta 0:00:07\n",
      "     ---                                    14.5/172.4 MB 22.6 MB/s eta 0:00:07\n",
      "     ---                                    15.9/172.4 MB 23.4 MB/s eta 0:00:07\n",
      "     ---                                    16.8/172.4 MB 24.2 MB/s eta 0:00:07\n",
      "     ---                                    17.6/172.4 MB 22.6 MB/s eta 0:00:07\n",
      "     ----                                   18.6/172.4 MB 21.8 MB/s eta 0:00:08\n",
      "     ----                                   19.4/172.4 MB 22.6 MB/s eta 0:00:07\n",
      "     ----                                   20.2/172.4 MB 20.5 MB/s eta 0:00:08\n",
      "     ----                                   20.7/172.4 MB 19.9 MB/s eta 0:00:08\n",
      "     ----                                   21.9/172.4 MB 19.8 MB/s eta 0:00:08\n",
      "     ----                                   22.7/172.4 MB 19.3 MB/s eta 0:00:08\n",
      "     -----                                  23.7/172.4 MB 19.9 MB/s eta 0:00:08\n",
      "     -----                                  24.7/172.4 MB 19.2 MB/s eta 0:00:08\n",
      "     -----                                  25.2/172.4 MB 18.7 MB/s eta 0:00:08\n",
      "     -----                                  25.8/172.4 MB 17.7 MB/s eta 0:00:09\n",
      "     -----                                  26.5/172.4 MB 17.3 MB/s eta 0:00:09\n",
      "     ------                                 27.3/172.4 MB 17.2 MB/s eta 0:00:09\n",
      "     ------                                 28.1/172.4 MB 16.8 MB/s eta 0:00:09\n",
      "     ------                                 28.5/172.4 MB 16.4 MB/s eta 0:00:09\n",
      "     ------                                 29.3/172.4 MB 16.0 MB/s eta 0:00:09\n",
      "     ------                                 30.8/172.4 MB 17.7 MB/s eta 0:00:09\n",
      "     ------                                 31.5/172.4 MB 17.2 MB/s eta 0:00:09\n",
      "     -------                                32.7/172.4 MB 17.7 MB/s eta 0:00:08\n",
      "     -------                                33.8/172.4 MB 17.7 MB/s eta 0:00:08\n",
      "     -------                                35.1/172.4 MB 19.2 MB/s eta 0:00:08\n",
      "     -------                                35.9/172.4 MB 19.9 MB/s eta 0:00:07\n",
      "     --------                               36.6/172.4 MB 19.3 MB/s eta 0:00:08\n",
      "     --------                               37.0/172.4 MB 19.3 MB/s eta 0:00:08\n",
      "     --------                               37.8/172.4 MB 18.7 MB/s eta 0:00:08\n",
      "     --------                               38.4/172.4 MB 18.7 MB/s eta 0:00:08\n",
      "     --------                               39.1/172.4 MB 18.7 MB/s eta 0:00:08\n",
      "     --------                               39.7/172.4 MB 18.2 MB/s eta 0:00:08\n",
      "     --------                               40.2/172.4 MB 17.2 MB/s eta 0:00:08\n",
      "     ---------                              40.9/172.4 MB 16.8 MB/s eta 0:00:08\n",
      "     ---------                              41.5/172.4 MB 16.0 MB/s eta 0:00:09\n",
      "     ---------                              42.0/172.4 MB 16.4 MB/s eta 0:00:08\n",
      "     ---------                              42.7/172.4 MB 15.2 MB/s eta 0:00:09\n",
      "     ---------                              43.4/172.4 MB 14.9 MB/s eta 0:00:09\n",
      "     ---------                              44.0/172.4 MB 14.6 MB/s eta 0:00:09\n",
      "     ---------                              44.6/172.4 MB 13.9 MB/s eta 0:00:10\n",
      "     ---------                              45.2/172.4 MB 13.4 MB/s eta 0:00:10\n",
      "     ----------                             45.9/172.4 MB 13.1 MB/s eta 0:00:10\n",
      "     ----------                             46.4/172.4 MB 13.1 MB/s eta 0:00:10\n",
      "     ----------                             46.6/172.4 MB 12.6 MB/s eta 0:00:10\n",
      "     ----------                             46.6/172.4 MB 12.6 MB/s eta 0:00:10\n",
      "     ----------                             46.6/172.4 MB 12.6 MB/s eta 0:00:10\n",
      "     ----------                             46.6/172.4 MB 11.3 MB/s eta 0:00:12\n",
      "     ----------                             46.6/172.4 MB 11.3 MB/s eta 0:00:12\n",
      "     ----------                             47.4/172.4 MB 10.6 MB/s eta 0:00:12\n",
      "     ----------                             48.3/172.4 MB 10.6 MB/s eta 0:00:12\n",
      "     ----------                             49.5/172.4 MB 11.1 MB/s eta 0:00:12\n",
      "     -----------                            50.6/172.4 MB 11.5 MB/s eta 0:00:11\n",
      "     -----------                            51.8/172.4 MB 12.1 MB/s eta 0:00:10\n",
      "     -----------                            52.3/172.4 MB 12.4 MB/s eta 0:00:10\n",
      "     -----------                            52.3/172.4 MB 11.9 MB/s eta 0:00:11\n",
      "     -----------                            52.3/172.4 MB 11.9 MB/s eta 0:00:11\n",
      "     -----------                            52.7/172.4 MB 10.6 MB/s eta 0:00:12\n",
      "     -----------                            54.1/172.4 MB 11.3 MB/s eta 0:00:11\n",
      "     ------------                           55.3/172.4 MB 11.9 MB/s eta 0:00:10\n",
      "     ------------                           56.5/172.4 MB 12.6 MB/s eta 0:00:10\n",
      "     ------------                           57.5/172.4 MB 18.2 MB/s eta 0:00:07\n",
      "     ------------                           58.1/172.4 MB 17.7 MB/s eta 0:00:07\n",
      "     ------------                           58.7/172.4 MB 17.2 MB/s eta 0:00:07\n",
      "     -------------                          59.5/172.4 MB 16.4 MB/s eta 0:00:07\n",
      "     -------------                          60.1/172.4 MB 16.0 MB/s eta 0:00:08\n",
      "     -------------                          60.7/172.4 MB 15.6 MB/s eta 0:00:08\n",
      "     -------------                          61.3/172.4 MB 14.9 MB/s eta 0:00:08\n",
      "     -------------                          61.7/172.4 MB 14.2 MB/s eta 0:00:08\n",
      "     -------------                          62.3/172.4 MB 13.9 MB/s eta 0:00:08\n",
      "     -------------                          63.1/172.4 MB 16.8 MB/s eta 0:00:07\n",
      "     --------------                         63.5/172.4 MB 16.4 MB/s eta 0:00:07\n",
      "     --------------                         64.3/172.4 MB 15.6 MB/s eta 0:00:07\n",
      "     --------------                         65.0/172.4 MB 14.9 MB/s eta 0:00:08\n",
      "     --------------                         65.2/172.4 MB 14.6 MB/s eta 0:00:08\n",
      "     --------------                         66.2/172.4 MB 13.9 MB/s eta 0:00:08\n",
      "     --------------                         66.8/172.4 MB 13.6 MB/s eta 0:00:08\n",
      "     --------------                         67.4/172.4 MB 13.4 MB/s eta 0:00:08\n",
      "     --------------                         68.0/172.4 MB 13.1 MB/s eta 0:00:08\n",
      "     ---------------                        68.6/172.4 MB 13.1 MB/s eta 0:00:08\n",
      "     ---------------                        69.2/172.4 MB 13.1 MB/s eta 0:00:08\n",
      "     ---------------                        69.8/172.4 MB 13.1 MB/s eta 0:00:08\n",
      "     ---------------                        70.4/172.4 MB 13.4 MB/s eta 0:00:08\n",
      "     ---------------                        71.2/172.4 MB 13.1 MB/s eta 0:00:08\n",
      "     ---------------                        72.0/172.4 MB 13.6 MB/s eta 0:00:08\n",
      "     ----------------                       72.6/172.4 MB 13.6 MB/s eta 0:00:08\n",
      "     ----------------                       73.2/172.4 MB 13.4 MB/s eta 0:00:08\n",
      "     ----------------                       73.8/172.4 MB 13.4 MB/s eta 0:00:08\n",
      "     ----------------                       74.4/172.4 MB 13.1 MB/s eta 0:00:08\n",
      "     ----------------                       75.0/172.4 MB 13.1 MB/s eta 0:00:08\n",
      "     ----------------                       75.6/172.4 MB 13.4 MB/s eta 0:00:08\n",
      "     ----------------                       76.2/172.4 MB 13.1 MB/s eta 0:00:08\n",
      "     ----------------                       76.8/172.4 MB 13.1 MB/s eta 0:00:08\n",
      "     -----------------                      77.4/172.4 MB 13.4 MB/s eta 0:00:08\n",
      "     -----------------                      78.1/172.4 MB 13.1 MB/s eta 0:00:08\n",
      "     -----------------                      78.7/172.4 MB 13.1 MB/s eta 0:00:08\n",
      "     -----------------                      79.1/172.4 MB 12.8 MB/s eta 0:00:08\n",
      "     -----------------                      79.9/172.4 MB 13.1 MB/s eta 0:00:08\n",
      "     -----------------                      80.5/172.4 MB 13.1 MB/s eta 0:00:08\n",
      "     -----------------                      81.2/172.4 MB 13.1 MB/s eta 0:00:07\n",
      "     ------------------                     81.7/172.4 MB 13.1 MB/s eta 0:00:07\n",
      "     ------------------                     82.4/172.4 MB 13.1 MB/s eta 0:00:07\n",
      "     ------------------                     83.0/172.4 MB 13.1 MB/s eta 0:00:07\n",
      "     ------------------                     83.6/172.4 MB 13.4 MB/s eta 0:00:07\n",
      "     ------------------                     84.1/172.4 MB 13.4 MB/s eta 0:00:07\n",
      "     ------------------                     84.8/172.4 MB 13.1 MB/s eta 0:00:07\n",
      "     ------------------                     85.4/172.4 MB 13.4 MB/s eta 0:00:07\n",
      "     -------------------                    86.2/172.4 MB 13.4 MB/s eta 0:00:07\n",
      "     -------------------                    86.9/172.4 MB 13.1 MB/s eta 0:00:07\n",
      "     -------------------                    87.6/172.4 MB 13.1 MB/s eta 0:00:07\n",
      "     -------------------                    88.2/172.4 MB 13.1 MB/s eta 0:00:07\n",
      "     -------------------                    88.8/172.4 MB 13.1 MB/s eta 0:00:07\n",
      "     -------------------                    89.4/172.4 MB 13.4 MB/s eta 0:00:07\n",
      "     -------------------                    89.8/172.4 MB 12.9 MB/s eta 0:00:07\n",
      "     -------------------                    90.6/172.4 MB 13.1 MB/s eta 0:00:07\n",
      "     --------------------                   91.2/172.4 MB 13.1 MB/s eta 0:00:07\n",
      "     --------------------                   91.8/172.4 MB 13.1 MB/s eta 0:00:07\n",
      "     --------------------                   92.5/172.4 MB 13.1 MB/s eta 0:00:07\n",
      "     --------------------                   93.1/172.4 MB 13.1 MB/s eta 0:00:07\n",
      "     --------------------                   93.6/172.4 MB 13.1 MB/s eta 0:00:07\n",
      "     --------------------                   94.3/172.4 MB 13.1 MB/s eta 0:00:06\n",
      "     --------------------                   94.9/172.4 MB 13.1 MB/s eta 0:00:06\n",
      "     ---------------------                  95.5/172.4 MB 13.1 MB/s eta 0:00:06\n",
      "     ---------------------                  96.1/172.4 MB 13.1 MB/s eta 0:00:06\n",
      "     ---------------------                  96.7/172.4 MB 13.1 MB/s eta 0:00:06\n",
      "     ---------------------                  97.3/172.4 MB 13.1 MB/s eta 0:00:06\n",
      "     ---------------------                  97.9/172.4 MB 13.1 MB/s eta 0:00:06\n",
      "     ---------------------                  98.5/172.4 MB 13.4 MB/s eta 0:00:06\n",
      "     ---------------------                  99.2/172.4 MB 13.1 MB/s eta 0:00:06\n",
      "     ---------------------                  99.7/172.4 MB 13.6 MB/s eta 0:00:06\n",
      "     ---------------------                 100.3/172.4 MB 13.4 MB/s eta 0:00:06\n",
      "     ---------------------                 101.2/172.4 MB 13.4 MB/s eta 0:00:06\n",
      "     ---------------------                 101.6/172.4 MB 13.4 MB/s eta 0:00:06\n",
      "     ---------------------                 102.4/172.4 MB 13.1 MB/s eta 0:00:06\n",
      "     ----------------------                102.7/172.4 MB 12.6 MB/s eta 0:00:06\n",
      "     ----------------------                103.8/172.4 MB 13.1 MB/s eta 0:00:06\n",
      "     ----------------------                104.3/172.4 MB 13.1 MB/s eta 0:00:06\n",
      "     ----------------------                105.0/172.4 MB 13.1 MB/s eta 0:00:06\n",
      "     ----------------------                105.6/172.4 MB 13.1 MB/s eta 0:00:06\n",
      "     ----------------------                106.2/172.4 MB 13.1 MB/s eta 0:00:06\n",
      "     ----------------------                106.8/172.4 MB 13.1 MB/s eta 0:00:06\n",
      "     -----------------------               107.4/172.4 MB 13.1 MB/s eta 0:00:05\n",
      "     -----------------------               108.0/172.4 MB 13.1 MB/s eta 0:00:05\n",
      "     -----------------------               108.6/172.4 MB 13.1 MB/s eta 0:00:05\n",
      "     -----------------------               109.3/172.4 MB 13.1 MB/s eta 0:00:05\n",
      "     -----------------------               109.9/172.4 MB 13.1 MB/s eta 0:00:05\n",
      "     -----------------------               110.5/172.4 MB 13.1 MB/s eta 0:00:05\n",
      "     -----------------------               111.0/172.4 MB 13.4 MB/s eta 0:00:05\n",
      "     -----------------------               111.7/172.4 MB 13.1 MB/s eta 0:00:05\n",
      "     ------------------------              112.3/172.4 MB 13.4 MB/s eta 0:00:05\n",
      "     ------------------------              112.9/172.4 MB 13.4 MB/s eta 0:00:05\n",
      "     ------------------------              113.5/172.4 MB 13.1 MB/s eta 0:00:05\n",
      "     ------------------------              114.1/172.4 MB 13.1 MB/s eta 0:00:05\n",
      "     ------------------------              114.7/172.4 MB 13.1 MB/s eta 0:00:05\n",
      "     ------------------------              115.3/172.4 MB 13.1 MB/s eta 0:00:05\n",
      "     ------------------------              116.0/172.4 MB 13.1 MB/s eta 0:00:05\n",
      "     -------------------------             116.6/172.4 MB 13.1 MB/s eta 0:00:05\n",
      "     -------------------------             117.2/172.4 MB 13.4 MB/s eta 0:00:05\n",
      "     -------------------------             117.6/172.4 MB 13.1 MB/s eta 0:00:05\n",
      "     -------------------------             117.6/172.4 MB 13.1 MB/s eta 0:00:05\n",
      "     -------------------------             117.6/172.4 MB 13.1 MB/s eta 0:00:05\n",
      "     -------------------------             117.6/172.4 MB 13.1 MB/s eta 0:00:05\n",
      "     -------------------------             119.4/172.4 MB 11.9 MB/s eta 0:00:05\n",
      "     -------------------------             120.4/172.4 MB 12.6 MB/s eta 0:00:05\n",
      "     --------------------------            121.5/172.4 MB 13.4 MB/s eta 0:00:04\n",
      "     --------------------------            121.7/172.4 MB 13.1 MB/s eta 0:00:04\n",
      "     --------------------------            121.7/172.4 MB 13.1 MB/s eta 0:00:04\n",
      "     --------------------------            122.6/172.4 MB 11.9 MB/s eta 0:00:05\n",
      "     --------------------------            123.7/172.4 MB 12.6 MB/s eta 0:00:04\n",
      "     --------------------------            125.2/172.4 MB 13.4 MB/s eta 0:00:04\n",
      "     --------------------------            125.8/172.4 MB 13.1 MB/s eta 0:00:04\n",
      "     ---------------------------           126.8/172.4 MB 13.1 MB/s eta 0:00:04\n",
      "     ---------------------------           127.3/172.4 MB 13.1 MB/s eta 0:00:04\n",
      "     ---------------------------           127.9/172.4 MB 17.2 MB/s eta 0:00:03\n",
      "     ---------------------------           128.6/172.4 MB 16.0 MB/s eta 0:00:03\n",
      "     ---------------------------           129.2/172.4 MB 14.9 MB/s eta 0:00:03\n",
      "     ---------------------------           129.8/172.4 MB 14.2 MB/s eta 0:00:03\n",
      "     ---------------------------           130.3/172.4 MB 13.9 MB/s eta 0:00:04\n",
      "     ----------------------------          131.0/172.4 MB 13.4 MB/s eta 0:00:04\n",
      "     ----------------------------          131.6/172.4 MB 13.1 MB/s eta 0:00:04\n",
      "     ----------------------------          132.2/172.4 MB 15.2 MB/s eta 0:00:03\n",
      "     ----------------------------          132.9/172.4 MB 14.6 MB/s eta 0:00:03\n",
      "     ----------------------------          133.5/172.4 MB 14.2 MB/s eta 0:00:03\n",
      "     ----------------------------          134.0/172.4 MB 13.9 MB/s eta 0:00:03\n",
      "     ----------------------------          134.7/172.4 MB 13.4 MB/s eta 0:00:03\n",
      "     -----------------------------         135.2/172.4 MB 13.1 MB/s eta 0:00:03\n",
      "     -----------------------------         135.9/172.4 MB 13.4 MB/s eta 0:00:03\n",
      "     -----------------------------         136.5/172.4 MB 13.4 MB/s eta 0:00:03\n",
      "     -----------------------------         137.3/172.4 MB 13.4 MB/s eta 0:00:03\n",
      "     -----------------------------         137.9/172.4 MB 13.1 MB/s eta 0:00:03\n",
      "     -----------------------------         138.4/172.4 MB 13.1 MB/s eta 0:00:03\n",
      "     -----------------------------         139.1/172.4 MB 13.1 MB/s eta 0:00:03\n",
      "     -----------------------------         139.7/172.4 MB 13.1 MB/s eta 0:00:03\n",
      "     ------------------------------        140.3/172.4 MB 13.4 MB/s eta 0:00:03\n",
      "     ------------------------------        140.9/172.4 MB 13.1 MB/s eta 0:00:03\n",
      "     ------------------------------        141.5/172.4 MB 13.4 MB/s eta 0:00:03\n",
      "     ------------------------------        141.9/172.4 MB 13.1 MB/s eta 0:00:03\n",
      "     ------------------------------        142.7/172.4 MB 13.1 MB/s eta 0:00:03\n",
      "     ------------------------------        143.3/172.4 MB 13.1 MB/s eta 0:00:03\n",
      "     ------------------------------        143.9/172.4 MB 13.1 MB/s eta 0:00:03\n",
      "     -------------------------------       144.5/172.4 MB 13.1 MB/s eta 0:00:03\n",
      "     -------------------------------       145.1/172.4 MB 13.1 MB/s eta 0:00:03\n",
      "     -------------------------------       145.7/172.4 MB 13.1 MB/s eta 0:00:03\n",
      "     -------------------------------       146.3/172.4 MB 13.1 MB/s eta 0:00:02\n",
      "     -------------------------------       146.9/172.4 MB 13.1 MB/s eta 0:00:02\n",
      "     -------------------------------       147.5/172.4 MB 13.4 MB/s eta 0:00:02\n",
      "     -------------------------------       148.3/172.4 MB 13.4 MB/s eta 0:00:02\n",
      "     --------------------------------      149.1/172.4 MB 13.1 MB/s eta 0:00:02\n",
      "     --------------------------------      150.0/172.4 MB 13.1 MB/s eta 0:00:02\n",
      "     --------------------------------      150.6/172.4 MB 13.1 MB/s eta 0:00:02\n",
      "     --------------------------------      151.2/172.4 MB 13.1 MB/s eta 0:00:02\n",
      "     --------------------------------      151.8/172.4 MB 13.1 MB/s eta 0:00:02\n",
      "     --------------------------------      152.4/172.4 MB 13.4 MB/s eta 0:00:02\n",
      "     --------------------------------      153.0/172.4 MB 13.1 MB/s eta 0:00:02\n",
      "     --------------------------------      153.6/172.4 MB 13.4 MB/s eta 0:00:02\n",
      "     ---------------------------------     154.0/172.4 MB 13.1 MB/s eta 0:00:02\n",
      "     ---------------------------------     154.8/172.4 MB 13.1 MB/s eta 0:00:02\n",
      "     ---------------------------------     155.4/172.4 MB 13.1 MB/s eta 0:00:02\n",
      "     ---------------------------------     156.0/172.4 MB 13.1 MB/s eta 0:00:02\n",
      "     ---------------------------------     156.6/172.4 MB 13.1 MB/s eta 0:00:02\n",
      "     ---------------------------------     157.2/172.4 MB 13.1 MB/s eta 0:00:02\n",
      "     ---------------------------------     157.8/172.4 MB 13.1 MB/s eta 0:00:02\n",
      "     ----------------------------------    158.4/172.4 MB 13.1 MB/s eta 0:00:02\n",
      "     ----------------------------------    159.1/172.4 MB 13.1 MB/s eta 0:00:02\n",
      "     ----------------------------------    159.7/172.4 MB 13.1 MB/s eta 0:00:01\n",
      "     ----------------------------------    160.3/172.4 MB 13.4 MB/s eta 0:00:01\n",
      "     ----------------------------------    161.1/172.4 MB 13.4 MB/s eta 0:00:01\n",
      "     ----------------------------------    161.9/172.4 MB 13.1 MB/s eta 0:00:01\n",
      "     ----------------------------------    162.4/172.4 MB 13.1 MB/s eta 0:00:01\n",
      "     -----------------------------------   163.1/172.4 MB 13.1 MB/s eta 0:00:01\n",
      "     -----------------------------------   163.7/172.4 MB 13.1 MB/s eta 0:00:01\n",
      "     -----------------------------------   164.3/172.4 MB 13.6 MB/s eta 0:00:01\n",
      "     -----------------------------------   164.9/172.4 MB 13.1 MB/s eta 0:00:01\n",
      "     -----------------------------------   165.5/172.4 MB 13.1 MB/s eta 0:00:01\n",
      "     -----------------------------------   166.1/172.4 MB 13.1 MB/s eta 0:00:01\n",
      "     -----------------------------------   166.8/172.4 MB 13.1 MB/s eta 0:00:01\n",
      "     -----------------------------------   167.3/172.4 MB 13.1 MB/s eta 0:00:01\n",
      "     ------------------------------------  168.0/172.4 MB 13.1 MB/s eta 0:00:01\n",
      "     ------------------------------------  168.6/172.4 MB 13.4 MB/s eta 0:00:01\n",
      "     ------------------------------------  169.2/172.4 MB 13.1 MB/s eta 0:00:01\n",
      "     ------------------------------------  169.8/172.4 MB 13.1 MB/s eta 0:00:01\n",
      "     ------------------------------------  170.2/172.4 MB 13.1 MB/s eta 0:00:01\n",
      "     ------------------------------------  171.0/172.4 MB 13.1 MB/s eta 0:00:01\n",
      "     ------------------------------------  171.4/172.4 MB 13.1 MB/s eta 0:00:01\n",
      "     ------------------------------------  172.2/172.4 MB 13.1 MB/s eta 0:00:01\n",
      "     ------------------------------------  172.3/172.4 MB 13.1 MB/s eta 0:00:01\n",
      "     ------------------------------------  172.3/172.4 MB 13.1 MB/s eta 0:00:01\n",
      "     ------------------------------------  172.3/172.4 MB 13.1 MB/s eta 0:00:01\n",
      "     ------------------------------------  172.3/172.4 MB 13.1 MB/s eta 0:00:01\n",
      "     ------------------------------------  172.3/172.4 MB 13.1 MB/s eta 0:00:01\n",
      "     -------------------------------------- 172.4/172.4 MB 9.5 MB/s eta 0:00:00\n",
      "Collecting torchvision>=0.8.1 (from -r D:\\WorkSpace\\GitHub\\Study-yolov5\\requirements.txt (line 16))\n",
      "  Downloading torchvision-0.15.2-cp38-cp38-win_amd64.whl (1.2 MB)\n",
      "                                              0.0/1.2 MB ? eta -:--:--\n",
      "     ------------------------------------     1.1/1.2 MB 23.1 MB/s eta 0:00:01\n",
      "     ---------------------------------------- 1.2/1.2 MB 15.2 MB/s eta 0:00:00\n",
      "Collecting tqdm>=4.64.0 (from -r D:\\WorkSpace\\GitHub\\Study-yolov5\\requirements.txt (line 17))\n",
      "  Using cached tqdm-4.65.0-py3-none-any.whl (77 kB)\n",
      "Collecting ultralytics>=8.0.100 (from -r D:\\WorkSpace\\GitHub\\Study-yolov5\\requirements.txt (line 18))\n",
      "  Downloading ultralytics-8.0.114-py3-none-any.whl (595 kB)\n",
      "                                              0.0/595.4 kB ? eta -:--:--\n",
      "     ------------------------------------- 595.4/595.4 kB 18.9 MB/s eta 0:00:00\n",
      "Collecting pandas>=1.1.4 (from -r D:\\WorkSpace\\GitHub\\Study-yolov5\\requirements.txt (line 27))\n",
      "  Downloading pandas-2.0.2-cp38-cp38-win_amd64.whl (10.8 MB)\n",
      "                                              0.0/10.8 MB ? eta -:--:--\n",
      "     ----                                     1.2/10.8 MB 39.3 MB/s eta 0:00:01\n",
      "     ---------                                2.6/10.8 MB 27.5 MB/s eta 0:00:01\n",
      "     --------------                           4.0/10.8 MB 28.2 MB/s eta 0:00:01\n",
      "     ----------------                         4.4/10.8 MB 23.6 MB/s eta 0:00:01\n",
      "     ----------------                         4.5/10.8 MB 19.2 MB/s eta 0:00:01\n",
      "     ----------------                         4.6/10.8 MB 16.3 MB/s eta 0:00:01\n",
      "     -----------------                        4.7/10.8 MB 14.2 MB/s eta 0:00:01\n",
      "     -------------------                      5.3/10.8 MB 14.1 MB/s eta 0:00:01\n",
      "     ---------------------                    5.9/10.8 MB 13.9 MB/s eta 0:00:01\n",
      "     --------------------------               7.2/10.8 MB 15.3 MB/s eta 0:00:01\n",
      "     ------------------------------           8.3/10.8 MB 16.0 MB/s eta 0:00:01\n",
      "     ------------------------------------    10.1/10.8 MB 17.5 MB/s eta 0:00:01\n",
      "     --------------------------------------- 10.8/10.8 MB 16.8 MB/s eta 0:00:00\n",
      "Collecting seaborn>=0.11.0 (from -r D:\\WorkSpace\\GitHub\\Study-yolov5\\requirements.txt (line 28))\n",
      "  Downloading seaborn-0.12.2-py3-none-any.whl (293 kB)\n",
      "                                              0.0/293.3 kB ? eta -:--:--\n",
      "     ------------------------------------- 293.3/293.3 kB 17.7 MB/s eta 0:00:00\n",
      "Requirement already satisfied: setuptools>=65.5.1 in c:\\users\\83524\\.conda\\envs\\py38_yolov5\\lib\\site-packages (from -r D:\\WorkSpace\\GitHub\\Study-yolov5\\requirements.txt (line 42)) (67.7.2)\n",
      "Collecting gitdb<5,>=4.0.1 (from gitpython>=3.1.30->-r D:\\WorkSpace\\GitHub\\Study-yolov5\\requirements.txt (line 5))\n",
      "  Downloading gitdb-4.0.10-py3-none-any.whl (62 kB)\n",
      "                                              0.0/62.7 kB ? eta -:--:--\n",
      "     ---------------------------------------- 62.7/62.7 kB ? eta 0:00:00\n",
      "Collecting contourpy>=1.0.1 (from matplotlib>=3.3->-r D:\\WorkSpace\\GitHub\\Study-yolov5\\requirements.txt (line 6))\n",
      "  Downloading contourpy-1.0.7-cp38-cp38-win_amd64.whl (162 kB)\n",
      "                                              0.0/163.0 kB ? eta -:--:--\n",
      "     -------------------------------------- 163.0/163.0 kB 9.5 MB/s eta 0:00:00\n",
      "Collecting cycler>=0.10 (from matplotlib>=3.3->-r D:\\WorkSpace\\GitHub\\Study-yolov5\\requirements.txt (line 6))\n",
      "  Using cached cycler-0.11.0-py3-none-any.whl (6.4 kB)\n",
      "Collecting fonttools>=4.22.0 (from matplotlib>=3.3->-r D:\\WorkSpace\\GitHub\\Study-yolov5\\requirements.txt (line 6))\n",
      "  Downloading fonttools-4.39.4-py3-none-any.whl (1.0 MB)\n",
      "                                              0.0/1.0 MB ? eta -:--:--\n",
      "     ---------------------------------------- 1.0/1.0 MB 21.3 MB/s eta 0:00:00\n",
      "Collecting kiwisolver>=1.0.1 (from matplotlib>=3.3->-r D:\\WorkSpace\\GitHub\\Study-yolov5\\requirements.txt (line 6))\n",
      "  Using cached kiwisolver-1.4.4-cp38-cp38-win_amd64.whl (55 kB)\n",
      "Requirement already satisfied: packaging>=20.0 in c:\\users\\83524\\.conda\\envs\\py38_yolov5\\lib\\site-packages (from matplotlib>=3.3->-r D:\\WorkSpace\\GitHub\\Study-yolov5\\requirements.txt (line 6)) (23.1)\n",
      "Collecting pyparsing>=2.3.1 (from matplotlib>=3.3->-r D:\\WorkSpace\\GitHub\\Study-yolov5\\requirements.txt (line 6))\n",
      "  Using cached pyparsing-3.0.9-py3-none-any.whl (98 kB)\n",
      "Requirement already satisfied: python-dateutil>=2.7 in c:\\users\\83524\\.conda\\envs\\py38_yolov5\\lib\\site-packages (from matplotlib>=3.3->-r D:\\WorkSpace\\GitHub\\Study-yolov5\\requirements.txt (line 6)) (2.8.2)\n",
      "Requirement already satisfied: importlib-resources>=3.2.0 in c:\\users\\83524\\.conda\\envs\\py38_yolov5\\lib\\site-packages (from matplotlib>=3.3->-r D:\\WorkSpace\\GitHub\\Study-yolov5\\requirements.txt (line 6)) (5.12.0)\n",
      "Collecting charset-normalizer<4,>=2 (from requests>=2.23.0->-r D:\\WorkSpace\\GitHub\\Study-yolov5\\requirements.txt (line 12))\n",
      "  Using cached charset_normalizer-3.1.0-cp38-cp38-win_amd64.whl (96 kB)\n",
      "Requirement already satisfied: idna<4,>=2.5 in c:\\users\\83524\\.conda\\envs\\py38_yolov5\\lib\\site-packages (from requests>=2.23.0->-r D:\\WorkSpace\\GitHub\\Study-yolov5\\requirements.txt (line 12)) (3.4)\n",
      "Collecting urllib3<3,>=1.21.1 (from requests>=2.23.0->-r D:\\WorkSpace\\GitHub\\Study-yolov5\\requirements.txt (line 12))\n",
      "  Downloading urllib3-2.0.3-py3-none-any.whl (123 kB)\n",
      "                                              0.0/123.6 kB ? eta -:--:--\n",
      "     -------------------------------------- 123.6/123.6 kB 7.6 MB/s eta 0:00:00\n",
      "Collecting certifi>=2017.4.17 (from requests>=2.23.0->-r D:\\WorkSpace\\GitHub\\Study-yolov5\\requirements.txt (line 12))\n",
      "  Downloading certifi-2023.5.7-py3-none-any.whl (156 kB)\n",
      "                                              0.0/157.0 kB ? eta -:--:--\n",
      "     -------------------------------------- 157.0/157.0 kB 9.2 MB/s eta 0:00:00\n",
      "Collecting filelock (from torch>=1.7.0->-r D:\\WorkSpace\\GitHub\\Study-yolov5\\requirements.txt (line 15))\n",
      "  Downloading filelock-3.12.0-py3-none-any.whl (10 kB)\n",
      "Requirement already satisfied: typing-extensions in c:\\users\\83524\\.conda\\envs\\py38_yolov5\\lib\\site-packages (from torch>=1.7.0->-r D:\\WorkSpace\\GitHub\\Study-yolov5\\requirements.txt (line 15)) (4.6.3)\n",
      "Collecting sympy (from torch>=1.7.0->-r D:\\WorkSpace\\GitHub\\Study-yolov5\\requirements.txt (line 15))\n",
      "  Downloading sympy-1.12-py3-none-any.whl (5.7 MB)\n",
      "                                              0.0/5.7 MB ? eta -:--:--\n",
      "     -------                                  1.1/5.7 MB 22.7 MB/s eta 0:00:01\n",
      "     ------------                             1.8/5.7 MB 19.4 MB/s eta 0:00:01\n",
      "     ----------------------                   3.3/5.7 MB 23.0 MB/s eta 0:00:01\n",
      "     -----------------------------            4.2/5.7 MB 22.5 MB/s eta 0:00:01\n",
      "     -------------------------------------    5.4/5.7 MB 22.7 MB/s eta 0:00:01\n",
      "     ---------------------------------------- 5.7/5.7 MB 21.5 MB/s eta 0:00:00\n",
      "Collecting networkx (from torch>=1.7.0->-r D:\\WorkSpace\\GitHub\\Study-yolov5\\requirements.txt (line 15))\n",
      "  Downloading networkx-3.1-py3-none-any.whl (2.1 MB)\n",
      "                                              0.0/2.1 MB ? eta -:--:--\n",
      "     --------------                           0.7/2.1 MB 15.7 MB/s eta 0:00:01\n",
      "     ---------------------------------------  2.1/2.1 MB 21.9 MB/s eta 0:00:01\n",
      "     ---------------------------------------- 2.1/2.1 MB 18.9 MB/s eta 0:00:00\n",
      "Requirement already satisfied: jinja2 in c:\\users\\83524\\.conda\\envs\\py38_yolov5\\lib\\site-packages (from torch>=1.7.0->-r D:\\WorkSpace\\GitHub\\Study-yolov5\\requirements.txt (line 15)) (3.1.2)\n",
      "Requirement already satisfied: colorama in c:\\users\\83524\\.conda\\envs\\py38_yolov5\\lib\\site-packages (from tqdm>=4.64.0->-r D:\\WorkSpace\\GitHub\\Study-yolov5\\requirements.txt (line 17)) (0.4.6)\n",
      "Collecting pytz>=2020.1 (from pandas>=1.1.4->-r D:\\WorkSpace\\GitHub\\Study-yolov5\\requirements.txt (line 27))\n",
      "  Using cached pytz-2023.3-py2.py3-none-any.whl (502 kB)\n",
      "Collecting tzdata>=2022.1 (from pandas>=1.1.4->-r D:\\WorkSpace\\GitHub\\Study-yolov5\\requirements.txt (line 27))\n",
      "  Using cached tzdata-2023.3-py2.py3-none-any.whl (341 kB)\n",
      "Collecting smmap<6,>=3.0.1 (from gitdb<5,>=4.0.1->gitpython>=3.1.30->-r D:\\WorkSpace\\GitHub\\Study-yolov5\\requirements.txt (line 5))\n",
      "  Downloading smmap-5.0.0-py3-none-any.whl (24 kB)\n",
      "Requirement already satisfied: zipp>=3.1.0 in c:\\users\\83524\\.conda\\envs\\py38_yolov5\\lib\\site-packages (from importlib-resources>=3.2.0->matplotlib>=3.3->-r D:\\WorkSpace\\GitHub\\Study-yolov5\\requirements.txt (line 6)) (3.15.0)\n",
      "Requirement already satisfied: six>=1.5 in c:\\users\\83524\\.conda\\envs\\py38_yolov5\\lib\\site-packages (from python-dateutil>=2.7->matplotlib>=3.3->-r D:\\WorkSpace\\GitHub\\Study-yolov5\\requirements.txt (line 6)) (1.16.0)\n",
      "Requirement already satisfied: MarkupSafe>=2.0 in c:\\users\\83524\\.conda\\envs\\py38_yolov5\\lib\\site-packages (from jinja2->torch>=1.7.0->-r D:\\WorkSpace\\GitHub\\Study-yolov5\\requirements.txt (line 15)) (2.1.3)\n",
      "Collecting mpmath>=0.19 (from sympy->torch>=1.7.0->-r D:\\WorkSpace\\GitHub\\Study-yolov5\\requirements.txt (line 15))\n",
      "  Downloading mpmath-1.3.0-py3-none-any.whl (536 kB)\n",
      "                                              0.0/536.2 kB ? eta -:--:--\n",
      "     ------------------------------------- 536.2/536.2 kB 17.0 MB/s eta 0:00:00\n",
      "Installing collected packages: pytz, mpmath, urllib3, tzdata, tqdm, sympy, smmap, pyparsing, Pillow, numpy, networkx, kiwisolver, fonttools, filelock, cycler, charset-normalizer, certifi, torch, scipy, requests, pandas, opencv-python, gitdb, contourpy, torchvision, thop, matplotlib, gitpython, seaborn, ultralytics\n",
      "Successfully installed Pillow-9.5.0 certifi-2023.5.7 charset-normalizer-3.1.0 contourpy-1.0.7 cycler-0.11.0 filelock-3.12.0 fonttools-4.39.4 gitdb-4.0.10 gitpython-3.1.31 kiwisolver-1.4.4 matplotlib-3.7.1 mpmath-1.3.0 networkx-3.1 numpy-1.24.3 opencv-python-4.7.0.72 pandas-2.0.2 pyparsing-3.0.9 pytz-2023.3 requests-2.31.0 scipy-1.10.1 seaborn-0.12.2 smmap-5.0.0 sympy-1.12 thop-0.1.1.post2209072238 torch-2.0.1 torchvision-0.15.2 tqdm-4.65.0 tzdata-2023.3 ultralytics-8.0.114 urllib3-2.0.3\n"
     ]
    },
    {
     "name": "stderr",
     "output_type": "stream",
     "text": [
      "WARNING: Retrying (Retry(total=4, connect=None, read=None, redirect=None, status=None)) after connection broken by 'SSLError(SSLEOFError(8, 'EOF occurred in violation of protocol (_ssl.c:1131)'))': /simple/gitpython/\n"
     ]
    }
   ],
   "source": [
    "# 安装yolov5的requirements,等待数分钟\n",
    "!pip install -r D:\\WorkSpace\\GitHub\\Study-yolov5\\requirements.txt"
   ]
  },
  {
   "cell_type": "code",
   "execution_count": 3,
   "id": "556835c8",
   "metadata": {
    "scrolled": true
   },
   "outputs": [
    {
     "name": "stdout",
     "output_type": "stream",
     "text": [
      "Name: torch\n",
      "Version: 2.0.1\n",
      "Summary: Tensors and Dynamic neural networks in Python with strong GPU acceleration\n",
      "Home-page: https://pytorch.org/\n",
      "Author: PyTorch Team\n",
      "Author-email: packages@pytorch.org\n",
      "License: BSD-3\n",
      "Location: c:\\users\\83524\\.conda\\envs\\py38_yolov5\\lib\\site-packages\n",
      "Requires: filelock, jinja2, networkx, sympy, typing-extensions\n",
      "Required-by: thop, torchvision, ultralytics\n"
     ]
    }
   ],
   "source": [
    "# 查看pytorch版本\n",
    "!pip show torch"
   ]
  },
  {
   "cell_type": "code",
   "execution_count": 4,
   "id": "bea62279",
   "metadata": {
    "scrolled": true
   },
   "outputs": [
    {
     "name": "stderr",
     "output_type": "stream",
     "text": [
      "WARNING: Package(s) not found: cudatookit\n"
     ]
    }
   ],
   "source": [
    "# 查看cudatoolkit\n",
    "!pip show cudatookit"
   ]
  },
  {
   "attachments": {},
   "cell_type": "markdown",
   "id": "6c48a407",
   "metadata": {},
   "source": [
    "进入cuda官网, 对应pytorch版本, 安装cuda\n",
    "pytorch官网: https://pytorch.org/get-started/locally/ -> 推断cuda需要安装11.7\n",
    "cuda官网: https://pytorch.org/get-started/locally/ -> pip安装11.7\n",
    "下载并安装"
   ]
  },
  {
   "attachments": {},
   "cell_type": "markdown",
   "id": "e5fb86ff",
   "metadata": {},
   "source": [
    "***"
   ]
  },
  {
   "attachments": {},
   "cell_type": "markdown",
   "id": "d1d41ab7",
   "metadata": {},
   "source": [
    "## 4.yolov5测试搭建"
   ]
  },
  {
   "cell_type": "code",
   "execution_count": 5,
   "id": "d35c8bd6",
   "metadata": {},
   "outputs": [
    {
     "name": "stderr",
     "output_type": "stream",
     "text": [
      "\u001b[34m\u001b[1mdetect: \u001b[0mweights=..\\yolov5s.pt, source=..\\data\\images, data=..\\data\\coco128.yaml, imgsz=[640, 640], conf_thres=0.25, iou_thres=0.45, max_det=1000, device=, view_img=False, save_txt=False, save_conf=False, save_crop=False, nosave=False, classes=None, agnostic_nms=False, augment=False, visualize=False, update=False, project=..\\runs\\detect, name=exp, exist_ok=False, line_thickness=3, hide_labels=False, hide_conf=False, half=False, dnn=False, vid_stride=1\n",
      "YOLOv5  v7.0-174-g82f685b Python-3.8.10 torch-2.0.1+cpu CPU\n",
      "\n",
      "Downloading https://github.com/ultralytics/yolov5/releases/download/v7.0/yolov5s.pt to ..\\yolov5s.pt...\n",
      "ERROR: <urlopen error [Errno 2] No such file or directory>\n",
      "Re-attempting https://github.com/ultralytics/yolov5/releases/download/v7.0/yolov5s.pt to ..\\yolov5s.pt...\n",
      "#=#=#                                                                         \n",
      "##O#-#                                                                        \n",
      "##O=#  #                                                                      \n",
      "#=#=-#  #                                                                     \n",
      "-#O#- #   #                                                                   \n",
      "-=#=#   #   #                                                                 \n",
      "-=O#-#   #   #                                                                \n",
      "-=O=#  #   #   #                                                              \n",
      "-=O=-#  #    #   #                                                            \n",
      "-=O=- #   #   #    #                                                          \n",
      "-=O=-   #   #   #     #                                                       \n",
      "curl: (35) schannel: failed to receive handshake, SSL/TLS connection failed\n",
      "\n",
      "ERROR: Downloaded file '..\\yolov5s.pt' does not exist or size is < min_bytes=100000.0\n",
      "..\\yolov5s.pt missing, try downloading from https://github.com/ultralytics/yolov5/releases/v7.0\n",
      "\n",
      "Traceback (most recent call last):\n",
      "  File \"../detect.py\", line 261, in <module>\n",
      "    main(opt)\n",
      "  File \"../detect.py\", line 256, in main\n",
      "    run(**vars(opt))\n",
      "  File \"C:\\Users\\83524\\.conda\\envs\\py38_yolov5\\lib\\site-packages\\torch\\utils\\_contextlib.py\", line 115, in decorate_context\n",
      "    return func(*args, **kwargs)\n",
      "  File \"../detect.py\", line 98, in run\n",
      "    model = DetectMultiBackend(weights, device=device, dnn=dnn, data=data, fp16=half)\n",
      "  File \"D:\\WorkSpace\\GitHub\\Study-yolov5\\models\\common.py\", line 344, in __init__\n",
      "    model = attempt_load(weights if isinstance(weights, list) else w, device=device, inplace=True, fuse=fuse)\n",
      "  File \"D:\\WorkSpace\\GitHub\\Study-yolov5\\models\\experimental.py\", line 79, in attempt_load\n",
      "    ckpt = torch.load(attempt_download(w), map_location='cpu')  # load\n",
      "  File \"C:\\Users\\83524\\.conda\\envs\\py38_yolov5\\lib\\site-packages\\torch\\serialization.py\", line 791, in load\n",
      "    with _open_file_like(f, 'rb') as opened_file:\n",
      "  File \"C:\\Users\\83524\\.conda\\envs\\py38_yolov5\\lib\\site-packages\\torch\\serialization.py\", line 271, in _open_file_like\n",
      "    return _open_file(name_or_buffer, mode)\n",
      "  File \"C:\\Users\\83524\\.conda\\envs\\py38_yolov5\\lib\\site-packages\\torch\\serialization.py\", line 252, in __init__\n",
      "    super().__init__(open(name, mode))\n",
      "FileNotFoundError: [Errno 2] No such file or directory: '..\\\\yolov5s.pt'\n"
     ]
    }
   ],
   "source": [
    "#  yolov5测试搭建\n",
    "!python ../detect.py"
   ]
  }
 ],
 "metadata": {
  "kernelspec": {
   "display_name": "Python [conda env:.conda-py3916_yolov5] *",
   "language": "python",
   "name": "conda-env-.conda-py3916_yolov5-py"
  },
  "language_info": {
   "codemirror_mode": {
    "name": "ipython",
    "version": 3
   },
   "file_extension": ".py",
   "mimetype": "text/x-python",
   "name": "python",
   "nbconvert_exporter": "python",
   "pygments_lexer": "ipython3",
   "version": "3.9.16"
  }
 },
 "nbformat": 4,
 "nbformat_minor": 5
}
